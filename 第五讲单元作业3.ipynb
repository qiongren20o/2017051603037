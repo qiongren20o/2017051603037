{
 "cells": [
  {
   "cell_type": "code",
   "execution_count": 25,
   "metadata": {},
   "outputs": [
    {
     "name": "stdout",
     "output_type": "stream",
     "text": [
      "X= [[  1.    64.3    2.  ]\n",
      " [  1.    99.6    3.  ]\n",
      " [  1.   145.45   4.  ]\n",
      " [  1.    63.75   2.  ]\n",
      " [  1.   135.46   3.  ]\n",
      " [  1.    92.85   4.  ]\n",
      " [  1.    86.97   2.  ]\n",
      " [  1.   144.76   4.  ]\n",
      " [  1.    59.3    1.  ]\n",
      " [  1.   116.03   3.  ]]\n",
      "Y= [[ 62.55]\n",
      " [ 82.42]\n",
      " [132.62]\n",
      " [ 73.31]\n",
      " [131.05]\n",
      " [ 86.57]\n",
      " [ 85.49]\n",
      " [127.44]\n",
      " [ 55.25]\n",
      " [104.84]]\n",
      "W= [[10.72771277]\n",
      " [ 0.87654538]\n",
      " [-1.7752445 ]]\n"
     ]
    }
   ],
   "source": [
    "import numpy as np\n",
    "x0 = np.ones(10)\n",
    "x1 = np.array([64.3,99.6,145.45,63.75,135.46,92.85,86.97,144.76,59.3,116.03])\n",
    "x2 = np.array([2,3,4,2,3,4,2,4,1,3])\n",
    "y = np.array([62.55,82.42,132.62,73.31,131.05,86.57,85.49,127.44,55.25,104.84])\n",
    "X = np.stack((x0,x1,x2),axis=1)\n",
    "X\n",
    "Y = y.reshape(10,-1)\n",
    "Y\n",
    "X = np.mat(X)\n",
    "Y = np.mat(Y)\n",
    "W = (X.T*X).I*X.T*Y\n",
    "print('X=',X)\n",
    "print('Y=',Y)\n",
    "print('W=',W)\n"
   ]
  },
  {
   "cell_type": "code",
   "execution_count": 3,
   "metadata": {},
   "outputs": [
    {
     "data": {
      "text/plain": [
       "array([1., 1., 1., 1., 1., 1., 1., 1., 1., 1.])"
      ]
     },
     "execution_count": 3,
     "metadata": {},
     "output_type": "execute_result"
    }
   ],
   "source": [
    "x0"
   ]
  },
  {
   "cell_type": "code",
   "execution_count": 6,
   "metadata": {},
   "outputs": [
    {
     "data": {
      "text/plain": [
       "array([ 64.3 ,  99.6 , 145.45,  63.75, 135.46,  92.85,  86.97, 144.76,\n",
       "        59.3 , 116.03])"
      ]
     },
     "execution_count": 6,
     "metadata": {},
     "output_type": "execute_result"
    }
   ],
   "source": [
    "x1"
   ]
  },
  {
   "cell_type": "code",
   "execution_count": 8,
   "metadata": {},
   "outputs": [
    {
     "data": {
      "text/plain": [
       "array([2, 3, 4, 2, 3, 4, 2, 4, 1, 3])"
      ]
     },
     "execution_count": 8,
     "metadata": {},
     "output_type": "execute_result"
    }
   ],
   "source": [
    "x2"
   ]
  },
  {
   "cell_type": "code",
   "execution_count": 10,
   "metadata": {},
   "outputs": [
    {
     "data": {
      "text/plain": [
       "array([ 62.55,  82.42, 132.62,  73.31, 131.05,  86.57,  85.49, 127.44,\n",
       "        55.25, 104.84])"
      ]
     },
     "execution_count": 10,
     "metadata": {},
     "output_type": "execute_result"
    }
   ],
   "source": [
    "y"
   ]
  },
  {
   "cell_type": "code",
   "execution_count": 20,
   "metadata": {},
   "outputs": [
    {
     "data": {
      "text/plain": [
       "array([[ 62.55],\n",
       "       [ 82.42],\n",
       "       [132.62],\n",
       "       [ 73.31],\n",
       "       [131.05],\n",
       "       [ 86.57],\n",
       "       [ 85.49],\n",
       "       [127.44],\n",
       "       [ 55.25],\n",
       "       [104.84]])"
      ]
     },
     "execution_count": 20,
     "metadata": {},
     "output_type": "execute_result"
    }
   ],
   "source": [
    "Y"
   ]
  },
  {
   "cell_type": "code",
   "execution_count": null,
   "metadata": {},
   "outputs": [],
   "source": []
  }
 ],
 "metadata": {
  "kernelspec": {
   "display_name": "Python 3",
   "language": "python",
   "name": "python3"
  },
  "language_info": {
   "codemirror_mode": {
    "name": "ipython",
    "version": 3
   },
   "file_extension": ".py",
   "mimetype": "text/x-python",
   "name": "python",
   "nbconvert_exporter": "python",
   "pygments_lexer": "ipython3",
   "version": "3.7.4"
  }
 },
 "nbformat": 4,
 "nbformat_minor": 2
}
