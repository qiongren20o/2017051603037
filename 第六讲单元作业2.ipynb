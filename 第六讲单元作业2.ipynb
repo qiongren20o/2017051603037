{
 "cells": [
  {
   "cell_type": "code",
   "execution_count": 1,
   "metadata": {},
   "outputs": [
    {
     "data": {
      "text/plain": [
       "<Figure size 1200x1200 with 13 Axes>"
      ]
     },
     "metadata": {},
     "output_type": "display_data"
    }
   ],
   "source": [
    "import tensorflow as tf\n",
    "import numpy as np\n",
    "import matplotlib.pyplot as plt\n",
    "\n",
    "b = tf.keras.datasets.boston_housing\n",
    "(train_x,train_y),(_,_) = b.load_data(test_split=0)\n",
    "\n",
    "plt.rcParams['font.sans-serif'] = ['SimHei']\n",
    "plt.rcParams['axes.unicode_minus'] = False\n",
    "\n",
    "t = [\"CRIM\",\"ZN\",\"INDOU\",\"CHAS\",\"NOX\",\"RM\",\"AGE\",\"DIS\",\"RAD\",\"TAX\",\"PTRATIO\",\"B-1000\",\"LSTAT\",\"MEDV\"]\n",
    "\n",
    "plt.figure(figsize=(12,12))\n",
    "\n",
    "for i in range(13):\n",
    "    plt.subplot(4,4,(i+1))\n",
    "    plt.scatter(train_x[:,i],train_y)\n",
    "    plt.xlabel(t[i])\n",
    "    plt.ylabel(\"Price($1000's)\")\n",
    "    plt.title(str(i+1)+\".\"+t[i]+\"-Price\")\n",
    "\n",
    "plt.tight_layout()\n",
    "plt.suptitle(\"各个属性与房价的关系:\",x=0.5,y=1.02,fontsize=20)\n",
    "plt.show()"
   ]
  },
  {
   "cell_type": "code",
   "execution_count": null,
   "metadata": {},
   "outputs": [
    {
     "name": "stdout",
     "output_type": "stream",
     "text": [
      "1\tCRIM\n",
      "\n",
      "2\tZN\n",
      "\n",
      "3\tINDOU\n",
      "\n",
      "4\tCHAS\n",
      "\n",
      "5\tNOX\n",
      "\n",
      "6\tRM\n",
      "\n",
      "7\tAGE\n",
      "\n",
      "8\tDIS\n",
      "\n",
      "9\tRAD\n",
      "\n",
      "10\tTAX\n",
      "\n",
      "11\tPTRATIO\n",
      "\n",
      "12\tB-1000\n",
      "\n",
      "13\tLSTAT\n",
      "\n",
      "input what you selected:\n",
      "1\n"
     ]
    },
    {
     "data": {
      "image/png": "[encoded data removed]",
      "text/plain": [
       "<Figure size 432x288 with 1 Axes>"
      ]
     },
     "metadata": {
      "needs_background": "light"
     },
     "output_type": "display_data"
    },
    {
     "name": "stdout",
     "output_type": "stream",
     "text": [
      "1\tCRIM\n",
      "\n",
      "2\tZN\n",
      "\n",
      "3\tINDOU\n",
      "\n",
      "4\tCHAS\n",
      "\n",
      "5\tNOX\n",
      "\n",
      "6\tRM\n",
      "\n",
      "7\tAGE\n",
      "\n",
      "8\tDIS\n",
      "\n",
      "9\tRAD\n",
      "\n",
      "10\tTAX\n",
      "\n",
      "11\tPTRATIO\n",
      "\n",
      "12\tB-1000\n",
      "\n",
      "13\tLSTAT\n",
      "\n",
      "input what you selected:\n",
      "2\n"
     ]
    },
    {
     "data": {
      "image/png": "[encoded data removed]",
      "text/plain": [
       "<Figure size 432x288 with 1 Axes>"
      ]
     },
     "metadata": {
      "needs_background": "light"
     },
     "output_type": "display_data"
    },
    {
     "name": "stdout",
     "output_type": "stream",
     "text": [
      "1\tCRIM\n",
      "\n",
      "2\tZN\n",
      "\n",
      "3\tINDOU\n",
      "\n",
      "4\tCHAS\n",
      "\n",
      "5\tNOX\n",
      "\n",
      "6\tRM\n",
      "\n",
      "7\tAGE\n",
      "\n",
      "8\tDIS\n",
      "\n",
      "9\tRAD\n",
      "\n",
      "10\tTAX\n",
      "\n",
      "11\tPTRATIO\n",
      "\n",
      "12\tB-1000\n",
      "\n",
      "13\tLSTAT\n",
      "\n",
      "input what you selected:\n"
     ]
    }
   ],
   "source": [
    "while True:\n",
    "    for i in range(13):\n",
    "        print(str(i+1) + \"\\t\"+t[i]+\"\\n\")\n",
    "    print('input what you selected:')\n",
    "    num = int(input())\n",
    "    plt.scatter(train_x[:,num-1],train_y)\n",
    "    plt.xlabel(t[num-1])\n",
    "    plt.ylabel(\"Price($1000's)\")\n",
    "    plt.title(str(num)+\".\"+t[num-1]+\"-Price\")\n",
    "    plt.show()"
   ]
  },
  {
   "cell_type": "code",
   "execution_count": null,
   "metadata": {},
   "outputs": [],
   "source": []
  }
 ],
 "metadata": {
  "kernelspec": {
   "display_name": "Python 3",
   "language": "python",
   "name": "python3"
  },
  "language_info": {
   "codemirror_mode": {
    "name": "ipython",
    "version": 3
   },
   "file_extension": ".py",
   "mimetype": "text/x-python",
   "name": "python",
   "nbconvert_exporter": "python",
   "pygments_lexer": "ipython3",
   "version": "3.7.4"
  }
 },
 "nbformat": 4,
 "nbformat_minor": 4
}
