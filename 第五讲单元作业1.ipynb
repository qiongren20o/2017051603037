{
 "cells": [
  {
   "cell_type": "code",
   "execution_count": 1,
   "metadata": {},
   "outputs": [
    {
     "name": "stdout",
     "output_type": "stream",
     "text": [
      "50\n",
      "input a number between :\n",
      "序号\t\t索引\t\t随机数\n",
      "   1\t\t   0\t\t0.143472\n",
      "   2\t\t  50\t\t0.322875\n",
      "   3\t\t 100\t\t0.394124\n",
      "   4\t\t 150\t\t0.730179\n",
      "   5\t\t 200\t\t0.354914\n",
      "   6\t\t 250\t\t0.169055\n",
      "   7\t\t 300\t\t0.001640\n",
      "   8\t\t 350\t\t0.398073\n",
      "   9\t\t 400\t\t0.944530\n",
      "  10\t\t 450\t\t0.286228\n",
      "  11\t\t 500\t\t0.384008\n",
      "  12\t\t 550\t\t0.694769\n",
      "  13\t\t 600\t\t0.130340\n",
      "  14\t\t 650\t\t0.601503\n",
      "  15\t\t 700\t\t0.585956\n",
      "  16\t\t 750\t\t0.741734\n",
      "  17\t\t 800\t\t0.182685\n",
      "  18\t\t 850\t\t0.453252\n",
      "  19\t\t 900\t\t0.541509\n",
      "  20\t\t 950\t\t0.465822\n"
     ]
    },
    {
     "data": {
      "text/plain": [
       "50"
      ]
     },
     "execution_count": 1,
     "metadata": {},
     "output_type": "execute_result"
    }
   ],
   "source": [
    "import numpy as np\n",
    "np.random.seed(612)\n",
    "t = np.random.rand(1000)\n",
    "a = int(input())\n",
    "print('input a number between :')\n",
    "print(\"序号\\t\\t索引\\t\\t随机数\")\n",
    "n=0  \n",
    "i = 1\n",
    "while(n<1000):\n",
    "    if(n%a==0): \n",
    "        print(\"%4d\\t\\t%4d\\t\\t%4f\"%(i,n,t[n]))\n",
    "        i+=1\n",
    "    n+=1\n",
    "50\n",
    "\n",
    "    "
   ]
  },
  {
   "cell_type": "code",
   "execution_count": null,
   "metadata": {},
   "outputs": [],
   "source": [
    "50\n"
   ]
  },
  {
   "cell_type": "code",
   "execution_count": null,
   "metadata": {},
   "outputs": [],
   "source": []
  },
  {
   "cell_type": "code",
   "execution_count": null,
   "metadata": {},
   "outputs": [],
   "source": []
  }
 ],
 "metadata": {
  "kernelspec": {
   "display_name": "Python 3",
   "language": "python",
   "name": "python3"
  },
  "language_info": {
   "codemirror_mode": {
    "name": "ipython",
    "version": 3
   },
   "file_extension": ".py",
   "mimetype": "text/x-python",
   "name": "python",
   "nbconvert_exporter": "python",
   "pygments_lexer": "ipython3",
   "version": "3.7.4"
  }
 },
 "nbformat": 4,
 "nbformat_minor": 2
}
