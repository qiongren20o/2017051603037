{
 "cells": [
  {
   "cell_type": "code",
   "execution_count": 10,
   "metadata": {},
   "outputs": [
    {
     "name": "stdout",
     "output_type": "stream",
     "text": [
      "w= tf.Tensor(0.8321514, shape=(), dtype=float32)\n",
      "b= tf.Tensor(10.234016, shape=(), dtype=float32)\n"
     ]
    }
   ],
   "source": [
    "import tensorflow as tf\n",
    "x = tf.constant([64.3,99.6,145.45,63.75,135.46,92.85,86.97,144.76,59.3,116.03])\n",
    "y = tf.constant([62.55,82.42,132.62,73.31,131.05,86.57,85.49,127.44,55.25,104.84])\n",
    "xavg = tf.reduce_mean(x)\n",
    "yavg = tf.reduce_mean(y)\n",
    "w1 = 0\n",
    "w2 = 0\n",
    "for i in range(tf.size(x)):\n",
    "    w1 += (x[i]-xavg)*(y[i]-yavg)\n",
    "    w2 += (x[i]-xavg)**2\n",
    "w = w1/w2\n",
    "print('w=',tf.reduce_sum(w))\n",
    "print('b=',tf.reduce_sum(yavg-w*xavg))\n"
   ]
  }
 ],
 "metadata": {
  "kernelspec": {
   "display_name": "Python 3",
   "language": "python",
   "name": "python3"
  },
  "language_info": {
   "codemirror_mode": {
    "name": "ipython",
    "version": 3
   },
   "file_extension": ".py",
   "mimetype": "text/x-python",
   "name": "python",
   "nbconvert_exporter": "python",
   "pygments_lexer": "ipython3",
   "version": "3.7.4"
  }
 },
 "nbformat": 4,
 "nbformat_minor": 2
}
